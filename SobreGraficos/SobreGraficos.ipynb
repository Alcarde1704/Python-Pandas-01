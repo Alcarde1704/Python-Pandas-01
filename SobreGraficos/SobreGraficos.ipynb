{
 "cells": [
  {
   "cell_type": "code",
   "execution_count": 1,
   "id": "3f582e77",
   "metadata": {},
   "outputs": [],
   "source": [
    "%matplotlib inline\n",
    "import pandas as pd\n",
    "import matplotlib.pyplot as plt\n",
    "plt.rc('figure', figsize = (15,8))"
   ]
  },
  {
   "cell_type": "code",
   "execution_count": 13,
   "id": "df86e542",
   "metadata": {},
   "outputs": [],
   "source": [
    "df = pd.read_csv('../dados/aluguel_residencial_sem_outliers.csv', sep=';')"
   ]
  },
  {
   "cell_type": "code",
   "execution_count": 15,
   "id": "bfc8bed4",
   "metadata": {},
   "outputs": [
    {
     "data": {
      "text/html": [
       "<div>\n",
       "<style scoped>\n",
       "    .dataframe tbody tr th:only-of-type {\n",
       "        vertical-align: middle;\n",
       "    }\n",
       "\n",
       "    .dataframe tbody tr th {\n",
       "        vertical-align: top;\n",
       "    }\n",
       "\n",
       "    .dataframe thead th {\n",
       "        text-align: right;\n",
       "    }\n",
       "</style>\n",
       "<table border=\"1\" class=\"dataframe\">\n",
       "  <thead>\n",
       "    <tr style=\"text-align: right;\">\n",
       "      <th></th>\n",
       "      <th>Tipo</th>\n",
       "      <th>Bairro</th>\n",
       "      <th>Quartos</th>\n",
       "      <th>Vagas</th>\n",
       "      <th>Suites</th>\n",
       "      <th>Area</th>\n",
       "      <th>Valor</th>\n",
       "      <th>Condominio</th>\n",
       "      <th>IPTU</th>\n",
       "      <th>Valor m2</th>\n",
       "      <th>Tipo Agregado</th>\n",
       "    </tr>\n",
       "  </thead>\n",
       "  <tbody>\n",
       "    <tr>\n",
       "      <th>0</th>\n",
       "      <td>Apartamento</td>\n",
       "      <td>Centro</td>\n",
       "      <td>1</td>\n",
       "      <td>0</td>\n",
       "      <td>0</td>\n",
       "      <td>15</td>\n",
       "      <td>800.0</td>\n",
       "      <td>390.0</td>\n",
       "      <td>20.0</td>\n",
       "      <td>53.33</td>\n",
       "      <td>Apartamento</td>\n",
       "    </tr>\n",
       "    <tr>\n",
       "      <th>1</th>\n",
       "      <td>Apartamento</td>\n",
       "      <td>Higienópolis</td>\n",
       "      <td>1</td>\n",
       "      <td>0</td>\n",
       "      <td>0</td>\n",
       "      <td>48</td>\n",
       "      <td>800.0</td>\n",
       "      <td>230.0</td>\n",
       "      <td>0.0</td>\n",
       "      <td>16.67</td>\n",
       "      <td>Apartamento</td>\n",
       "    </tr>\n",
       "    <tr>\n",
       "      <th>2</th>\n",
       "      <td>Apartamento</td>\n",
       "      <td>Cachambi</td>\n",
       "      <td>2</td>\n",
       "      <td>0</td>\n",
       "      <td>0</td>\n",
       "      <td>50</td>\n",
       "      <td>1300.0</td>\n",
       "      <td>301.0</td>\n",
       "      <td>17.0</td>\n",
       "      <td>26.00</td>\n",
       "      <td>Apartamento</td>\n",
       "    </tr>\n",
       "    <tr>\n",
       "      <th>3</th>\n",
       "      <td>Apartamento</td>\n",
       "      <td>Grajaú</td>\n",
       "      <td>2</td>\n",
       "      <td>1</td>\n",
       "      <td>0</td>\n",
       "      <td>70</td>\n",
       "      <td>1500.0</td>\n",
       "      <td>642.0</td>\n",
       "      <td>74.0</td>\n",
       "      <td>21.43</td>\n",
       "      <td>Apartamento</td>\n",
       "    </tr>\n",
       "    <tr>\n",
       "      <th>4</th>\n",
       "      <td>Apartamento</td>\n",
       "      <td>Lins de Vasconcelos</td>\n",
       "      <td>3</td>\n",
       "      <td>1</td>\n",
       "      <td>1</td>\n",
       "      <td>90</td>\n",
       "      <td>1500.0</td>\n",
       "      <td>455.0</td>\n",
       "      <td>14.0</td>\n",
       "      <td>16.67</td>\n",
       "      <td>Apartamento</td>\n",
       "    </tr>\n",
       "    <tr>\n",
       "      <th>...</th>\n",
       "      <td>...</td>\n",
       "      <td>...</td>\n",
       "      <td>...</td>\n",
       "      <td>...</td>\n",
       "      <td>...</td>\n",
       "      <td>...</td>\n",
       "      <td>...</td>\n",
       "      <td>...</td>\n",
       "      <td>...</td>\n",
       "      <td>...</td>\n",
       "      <td>...</td>\n",
       "    </tr>\n",
       "    <tr>\n",
       "      <th>19735</th>\n",
       "      <td>Quitinete</td>\n",
       "      <td>Glória</td>\n",
       "      <td>1</td>\n",
       "      <td>0</td>\n",
       "      <td>0</td>\n",
       "      <td>10</td>\n",
       "      <td>400.0</td>\n",
       "      <td>107.0</td>\n",
       "      <td>10.0</td>\n",
       "      <td>40.00</td>\n",
       "      <td>Apartamento</td>\n",
       "    </tr>\n",
       "    <tr>\n",
       "      <th>19736</th>\n",
       "      <td>Quitinete</td>\n",
       "      <td>Flamengo</td>\n",
       "      <td>1</td>\n",
       "      <td>0</td>\n",
       "      <td>0</td>\n",
       "      <td>23</td>\n",
       "      <td>900.0</td>\n",
       "      <td>605.0</td>\n",
       "      <td>0.0</td>\n",
       "      <td>39.13</td>\n",
       "      <td>Apartamento</td>\n",
       "    </tr>\n",
       "    <tr>\n",
       "      <th>19737</th>\n",
       "      <td>Quitinete</td>\n",
       "      <td>Centro</td>\n",
       "      <td>1</td>\n",
       "      <td>0</td>\n",
       "      <td>0</td>\n",
       "      <td>24</td>\n",
       "      <td>1100.0</td>\n",
       "      <td>323.0</td>\n",
       "      <td>0.0</td>\n",
       "      <td>45.83</td>\n",
       "      <td>Apartamento</td>\n",
       "    </tr>\n",
       "    <tr>\n",
       "      <th>19738</th>\n",
       "      <td>Quitinete</td>\n",
       "      <td>Copacabana</td>\n",
       "      <td>1</td>\n",
       "      <td>0</td>\n",
       "      <td>0</td>\n",
       "      <td>22</td>\n",
       "      <td>1500.0</td>\n",
       "      <td>286.0</td>\n",
       "      <td>200.0</td>\n",
       "      <td>68.18</td>\n",
       "      <td>Apartamento</td>\n",
       "    </tr>\n",
       "    <tr>\n",
       "      <th>19739</th>\n",
       "      <td>Quitinete</td>\n",
       "      <td>Centro</td>\n",
       "      <td>0</td>\n",
       "      <td>0</td>\n",
       "      <td>0</td>\n",
       "      <td>27</td>\n",
       "      <td>800.0</td>\n",
       "      <td>350.0</td>\n",
       "      <td>25.0</td>\n",
       "      <td>29.63</td>\n",
       "      <td>Apartamento</td>\n",
       "    </tr>\n",
       "  </tbody>\n",
       "</table>\n",
       "<p>19740 rows × 11 columns</p>\n",
       "</div>"
      ],
      "text/plain": [
       "              Tipo               Bairro  Quartos  Vagas  Suites  Area   Valor  \\\n",
       "0      Apartamento               Centro        1      0       0    15   800.0   \n",
       "1      Apartamento         Higienópolis        1      0       0    48   800.0   \n",
       "2      Apartamento             Cachambi        2      0       0    50  1300.0   \n",
       "3      Apartamento               Grajaú        2      1       0    70  1500.0   \n",
       "4      Apartamento  Lins de Vasconcelos        3      1       1    90  1500.0   \n",
       "...            ...                  ...      ...    ...     ...   ...     ...   \n",
       "19735    Quitinete               Glória        1      0       0    10   400.0   \n",
       "19736    Quitinete             Flamengo        1      0       0    23   900.0   \n",
       "19737    Quitinete               Centro        1      0       0    24  1100.0   \n",
       "19738    Quitinete           Copacabana        1      0       0    22  1500.0   \n",
       "19739    Quitinete               Centro        0      0       0    27   800.0   \n",
       "\n",
       "       Condominio   IPTU  Valor m2 Tipo Agregado  \n",
       "0           390.0   20.0     53.33   Apartamento  \n",
       "1           230.0    0.0     16.67   Apartamento  \n",
       "2           301.0   17.0     26.00   Apartamento  \n",
       "3           642.0   74.0     21.43   Apartamento  \n",
       "4           455.0   14.0     16.67   Apartamento  \n",
       "...           ...    ...       ...           ...  \n",
       "19735       107.0   10.0     40.00   Apartamento  \n",
       "19736       605.0    0.0     39.13   Apartamento  \n",
       "19737       323.0    0.0     45.83   Apartamento  \n",
       "19738       286.0  200.0     68.18   Apartamento  \n",
       "19739       350.0   25.0     29.63   Apartamento  \n",
       "\n",
       "[19740 rows x 11 columns]"
      ]
     },
     "execution_count": 15,
     "metadata": {},
     "output_type": "execute_result"
    }
   ],
   "source": [
    "df"
   ]
  },
  {
   "cell_type": "code",
   "execution_count": 34,
   "id": "8d6ec237",
   "metadata": {},
   "outputs": [
    {
     "data": {
      "text/plain": [
       "<Figure size 1080x576 with 0 Axes>"
      ]
     },
     "metadata": {},
     "output_type": "display_data"
    }
   ],
   "source": [
    "area = plt.figure()"
   ]
  },
  {
   "cell_type": "code",
   "execution_count": 35,
   "id": "45c235da",
   "metadata": {},
   "outputs": [],
   "source": [
    "g1 = area.add_subplot(2,2,1)\n",
    "g2 = area.add_subplot(2,2,2)\n",
    "g3 = area.add_subplot(2,2,3)\n",
    "g4 = area.add_subplot(2,2,4)"
   ]
  },
  {
   "cell_type": "code",
   "execution_count": 36,
   "id": "d5f0747d",
   "metadata": {},
   "outputs": [
    {
     "data": {
      "text/plain": [
       "Text(0.5, 1.0, 'Valor Médio Por Tipo')"
      ]
     },
     "execution_count": 36,
     "metadata": {},
     "output_type": "execute_result"
    }
   ],
   "source": [
    "g1.scatter(df.Valor, df.Area) # scatter plot grafico de dispersão\n",
    "g1.set_title('Valor X Area')\n",
    "\n",
    "g2.hist(df.Valor)\n",
    "g2.set_title('Histograma')\n",
    "\n",
    "dados_g3 = df.Valor.sample(100)\n",
    "dados_g3.index = range(dados_g3.shape[0])\n",
    "g3.plot(dados_g3)\n",
    "g3.set_title('Amostra Valor')\n",
    "\n",
    "grupo = df.groupby('Tipo')['Valor']\n",
    "label = grupo.mean().index\n",
    "valores = grupo.mean().values\n",
    "g4.bar(label, valores)\n",
    "g4.set_title('Valor Médio Por Tipo')"
   ]
  },
  {
   "cell_type": "code",
   "execution_count": 37,
   "id": "7e7cdc20",
   "metadata": {},
   "outputs": [
    {
     "data": {
      "image/png": "[encoded data removed]",
      "text/plain": [
       "<Figure size 1080x576 with 4 Axes>"
      ]
     },
     "execution_count": 37,
     "metadata": {},
     "output_type": "execute_result"
    }
   ],
   "source": [
    "area"
   ]
  },
  {
   "cell_type": "code",
   "execution_count": 38,
   "id": "ba8ec290",
   "metadata": {},
   "outputs": [],
   "source": [
    "area.savefig('grafico.png', dpi = 300, bbox_inches = 'tight')"
   ]
  },
  {
   "cell_type": "markdown",
   "id": "1922cdbd",
   "metadata": {},
   "source": [
    "## Atividade Pratica"
   ]
  },
  {
   "cell_type": "markdown",
   "id": "97fd894a",
   "metadata": {},
   "source": [
    "### Neste exercício, estamos apresentando o gráfico de pizza que pode ser obtido com a aplicação do método pie(), \n",
    "### de matplotlib. Considere o código inicial abaixo para escolher a alternativa correta:"
   ]
  },
  {
   "cell_type": "code",
   "execution_count": 40,
   "id": "a2bae887",
   "metadata": {},
   "outputs": [],
   "source": [
    "%matplotlib inline\n",
    "import pandas as pd\n",
    "import matplotlib.pyplot as plt\n",
    "plt.rc('figure', figsize = (15, 7))\n",
    "\n",
    "dados = pd.read_csv('../dados/aluguel_amostra.csv', sep = ';')"
   ]
  },
  {
   "cell_type": "code",
   "execution_count": 67,
   "id": "80cc8a2a",
   "metadata": {},
   "outputs": [
    {
     "data": {
      "text/plain": [
       "<Figure size 1080x504 with 0 Axes>"
      ]
     },
     "metadata": {},
     "output_type": "display_data"
    }
   ],
   "source": [
    "area = plt.figure()"
   ]
  },
  {
   "cell_type": "code",
   "execution_count": 68,
   "id": "4a61e85d",
   "metadata": {},
   "outputs": [],
   "source": [
    "g1 = area.add_subplot(2,2,1)\n",
    "g2 = area.add_subplot(2,2,2)"
   ]
  },
  {
   "cell_type": "code",
   "execution_count": 56,
   "id": "234c77be",
   "metadata": {},
   "outputs": [],
   "source": [
    "grupo1 = dados.groupby('Tipo Agregado')['Valor']\n",
    "label1 = grupo1.count().index\n",
    "valores1 = grupo1.count().values"
   ]
  },
  {
   "cell_type": "code",
   "execution_count": 70,
   "id": "0a33408c",
   "metadata": {},
   "outputs": [
    {
     "data": {
      "text/plain": [
       "Text(0.5, 1.0, 'Total de Imóveis por Tipo Agregado')"
      ]
     },
     "execution_count": 70,
     "metadata": {},
     "output_type": "execute_result"
    }
   ],
   "source": [
    "g1.pie(valores1, labels = label1, autopct='%1.1f%%')\n",
    "g1.set_title('Total de Imóveis por Tipo Agregado')"
   ]
  },
  {
   "cell_type": "code",
   "execution_count": 71,
   "id": "9c48fbba",
   "metadata": {},
   "outputs": [
    {
     "data": {
      "image/png": "[encoded data removed]",
      "text/plain": [
       "<Figure size 1080x504 with 2 Axes>"
      ]
     },
     "execution_count": 71,
     "metadata": {},
     "output_type": "execute_result"
    }
   ],
   "source": [
    "area"
   ]
  },
  {
   "cell_type": "code",
   "execution_count": 73,
   "id": "ff0c33da",
   "metadata": {},
   "outputs": [],
   "source": [
    "grupo2 = dados.groupby('Tipo')['Valor']"
   ]
  },
  {
   "cell_type": "code",
   "execution_count": 75,
   "id": "c4f0c4c2",
   "metadata": {},
   "outputs": [],
   "source": [
    "label2 = grupo2.count().index\n",
    "valores2 = grupo2.count().values"
   ]
  },
  {
   "cell_type": "code",
   "execution_count": 82,
   "id": "a88a9660",
   "metadata": {},
   "outputs": [
    {
     "data": {
      "text/plain": [
       "Text(0.5, 1.0, 'Total de Imóveis por Tipo')"
      ]
     },
     "execution_count": 82,
     "metadata": {},
     "output_type": "execute_result"
    }
   ],
   "source": [
    "g2.pie(valores2, labels = label2, autopct='%1.1f%%')\n",
    "g2.set_title('Total de Imóveis por Tipo')"
   ]
  },
  {
   "cell_type": "code",
   "execution_count": 83,
   "id": "6d1aaed1",
   "metadata": {},
   "outputs": [
    {
     "data": {
      "image/png": "[encoded data removed]",
      "text/plain": [
       "<Figure size 1080x504 with 2 Axes>"
      ]
     },
     "execution_count": 83,
     "metadata": {},
     "output_type": "execute_result"
    }
   ],
   "source": [
    "area"
   ]
  },
  {
   "cell_type": "code",
   "execution_count": 84,
   "id": "d5d890a3",
   "metadata": {},
   "outputs": [],
   "source": [
    "area.savefig('GraficosTipos.png', dpi = 300, bbox_inches = 'tight')"
   ]
  },
  {
   "cell_type": "code",
   "execution_count": null,
   "id": "f7118f26",
   "metadata": {},
   "outputs": [],
   "source": []
  }
 ],
 "metadata": {
  "kernelspec": {
   "display_name": "Python 3 (ipykernel)",
   "language": "python",
   "name": "python3"
  },
  "language_info": {
   "codemirror_mode": {
    "name": "ipython",
    "version": 3
   },
   "file_extension": ".py",
   "mimetype": "text/x-python",
   "name": "python",
   "nbconvert_exporter": "python",
   "pygments_lexer": "ipython3",
   "version": "3.9.12"
  }
 },
 "nbformat": 4,
 "nbformat_minor": 5
}
